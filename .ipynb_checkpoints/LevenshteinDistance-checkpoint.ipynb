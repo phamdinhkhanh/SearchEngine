{
 "cells": [
  {
   "cell_type": "code",
   "execution_count": 1,
   "metadata": {
    "collapsed": false,
    "deletable": true,
    "editable": true
   },
   "outputs": [],
   "source": [
    "import pandas as pd\n",
    "data2 = pd.read_excel('SearchItems.xlsx', sheet_name = 'Sheet1', header = 0, encoding = 'ISO-8859-1')"
   ]
  },
  {
   "cell_type": "code",
   "execution_count": 23,
   "metadata": {
    "collapsed": false,
    "deletable": true,
    "editable": true
   },
   "outputs": [
    {
     "data": {
      "text/html": [
       "<div>\n",
       "<style scoped>\n",
       "    .dataframe tbody tr th:only-of-type {\n",
       "        vertical-align: middle;\n",
       "    }\n",
       "\n",
       "    .dataframe tbody tr th {\n",
       "        vertical-align: top;\n",
       "    }\n",
       "\n",
       "    .dataframe thead th {\n",
       "        text-align: right;\n",
       "    }\n",
       "</style>\n",
       "<table border=\"1\" class=\"dataframe\">\n",
       "  <thead>\n",
       "    <tr style=\"text-align: right;\">\n",
       "      <th></th>\n",
       "      <th>Term</th>\n",
       "      <th>Frequence</th>\n",
       "    </tr>\n",
       "  </thead>\n",
       "  <tbody>\n",
       "    <tr>\n",
       "      <th>0</th>\n",
       "      <td>Pin điện thoại iPhone 6</td>\n",
       "      <td>123</td>\n",
       "    </tr>\n",
       "    <tr>\n",
       "      <th>1</th>\n",
       "      <td>điện thoại samsung galaxy a8 plus</td>\n",
       "      <td>121</td>\n",
       "    </tr>\n",
       "    <tr>\n",
       "      <th>2</th>\n",
       "      <td>Đồng hồ định vị GPS (kiêm điện thoại trẻ em) I...</td>\n",
       "      <td>83</td>\n",
       "    </tr>\n",
       "    <tr>\n",
       "      <th>3</th>\n",
       "      <td>điện thoại cho người già</td>\n",
       "      <td>78</td>\n",
       "    </tr>\n",
       "    <tr>\n",
       "      <th>4</th>\n",
       "      <td>điện thoại iphone 6 plus</td>\n",
       "      <td>67</td>\n",
       "    </tr>\n",
       "  </tbody>\n",
       "</table>\n",
       "</div>"
      ],
      "text/plain": [
       "                                                Term  Frequence\n",
       "0                            Pin điện thoại iPhone 6        123\n",
       "1                  điện thoại samsung galaxy a8 plus        121\n",
       "2  Đồng hồ định vị GPS (kiêm điện thoại trẻ em) I...         83\n",
       "3                           điện thoại cho người già         78\n",
       "4                           điện thoại iphone 6 plus         67"
      ]
     },
     "execution_count": 23,
     "metadata": {},
     "output_type": "execute_result"
    }
   ],
   "source": [
    "data2.columns = ['Term', 'Frequence']\n",
    "data2.head()"
   ]
  },
  {
   "cell_type": "code",
   "execution_count": 102,
   "metadata": {
    "collapsed": false,
    "deletable": true,
    "editable": true
   },
   "outputs": [],
   "source": [
    "from underthesea import word_tokenize\n",
    "dic = []\n",
    "for item in data2.Term.tolist():\n",
    "    dic.append(word_tokenize(item))"
   ]
  },
  {
   "cell_type": "code",
   "execution_count": 106,
   "metadata": {
    "collapsed": false,
    "deletable": true,
    "editable": true
   },
   "outputs": [],
   "source": [
    "singular_word = list(map(str.split, data2.Term))\n",
    "dic0 = []\n",
    "for item in singular_word:\n",
    "    dic0 += item\n",
    "# dic1"
   ]
  },
  {
   "cell_type": "code",
   "execution_count": 104,
   "metadata": {
    "collapsed": false,
    "deletable": true,
    "editable": true
   },
   "outputs": [
    {
     "name": "stdout",
     "output_type": "stream",
     "text": [
      "Length of the dictionary:  32923\n"
     ]
    }
   ],
   "source": [
    "dic1 = []\n",
    "for i in range(len(dic)):\n",
    "    dic1 += dic[i]\n",
    "print('Length of the dictionary: ', len(dic1))"
   ]
  },
  {
   "cell_type": "code",
   "execution_count": 108,
   "metadata": {
    "collapsed": false,
    "deletable": true,
    "editable": true
   },
   "outputs": [
    {
     "data": {
      "text/plain": [
       "['Gimbal', 'chống', 'rung', 'cho', 'điện thoại']"
      ]
     },
     "execution_count": 108,
     "metadata": {},
     "output_type": "execute_result"
    }
   ],
   "source": [
    "dic2 = dic0 + dic1"
   ]
  },
  {
   "cell_type": "code",
   "execution_count": 5,
   "metadata": {
    "collapsed": false,
    "deletable": true,
    "editable": true
   },
   "outputs": [
    {
     "name": "stdout",
     "output_type": "stream",
     "text": [
      "Length of the dictionary:  3701\n"
     ]
    }
   ],
   "source": [
    "import numpy as np\n",
    "dic3 = np.unique(dic2)\n",
    "print('Length of the dictionary: ', len(dic3))"
   ]
  },
  {
   "cell_type": "code",
   "execution_count": 7,
   "metadata": {
    "collapsed": false,
    "deletable": true,
    "editable": true
   },
   "outputs": [],
   "source": [
    "X = np.unique(dic2, return_counts = True)\n",
    "data_tf = pd.DataFrame({'Term':X[0], 'Frequence':X[1]})"
   ]
  },
  {
   "cell_type": "code",
   "execution_count": 8,
   "metadata": {
    "collapsed": false,
    "deletable": true,
    "editable": true
   },
   "outputs": [],
   "source": [
    "data_tf = data_tf.sort_values('Frequence', ascending = False)"
   ]
  },
  {
   "cell_type": "code",
   "execution_count": 9,
   "metadata": {
    "collapsed": false,
    "deletable": true,
    "editable": true
   },
   "outputs": [
    {
     "data": {
      "text/html": [
       "<div>\n",
       "<style scoped>\n",
       "    .dataframe tbody tr th:only-of-type {\n",
       "        vertical-align: middle;\n",
       "    }\n",
       "\n",
       "    .dataframe tbody tr th {\n",
       "        vertical-align: top;\n",
       "    }\n",
       "\n",
       "    .dataframe thead th {\n",
       "        text-align: right;\n",
       "    }\n",
       "</style>\n",
       "<table border=\"1\" class=\"dataframe\">\n",
       "  <thead>\n",
       "    <tr style=\"text-align: right;\">\n",
       "      <th></th>\n",
       "      <th>Term</th>\n",
       "      <th>Frequence</th>\n",
       "    </tr>\n",
       "  </thead>\n",
       "  <tbody>\n",
       "    <tr>\n",
       "      <th>2795</th>\n",
       "      <td>pixel</td>\n",
       "      <td>5</td>\n",
       "    </tr>\n",
       "    <tr>\n",
       "      <th>2420</th>\n",
       "      <td>m4</td>\n",
       "      <td>5</td>\n",
       "    </tr>\n",
       "    <tr>\n",
       "      <th>2586</th>\n",
       "      <td>ngoài</td>\n",
       "      <td>5</td>\n",
       "    </tr>\n",
       "    <tr>\n",
       "      <th>2023</th>\n",
       "      <td>gió</td>\n",
       "      <td>5</td>\n",
       "    </tr>\n",
       "    <tr>\n",
       "      <th>2362</th>\n",
       "      <td>lock</td>\n",
       "      <td>5</td>\n",
       "    </tr>\n",
       "  </tbody>\n",
       "</table>\n",
       "</div>"
      ],
      "text/plain": [
       "       Term  Frequence\n",
       "2795  pixel          5\n",
       "2420     m4          5\n",
       "2586  ngoài          5\n",
       "2023    gió          5\n",
       "2362   lock          5"
      ]
     },
     "execution_count": 9,
     "metadata": {},
     "output_type": "execute_result"
    }
   ],
   "source": [
    "data_tf[data_tf.Frequence >= 5].tail()"
   ]
  },
  {
   "cell_type": "code",
   "execution_count": 10,
   "metadata": {
    "collapsed": false,
    "deletable": true,
    "editable": true
   },
   "outputs": [
    {
     "data": {
      "text/html": [
       "<div>\n",
       "<style scoped>\n",
       "    .dataframe tbody tr th:only-of-type {\n",
       "        vertical-align: middle;\n",
       "    }\n",
       "\n",
       "    .dataframe tbody tr th {\n",
       "        vertical-align: top;\n",
       "    }\n",
       "\n",
       "    .dataframe thead th {\n",
       "        text-align: right;\n",
       "    }\n",
       "</style>\n",
       "<table border=\"1\" class=\"dataframe\">\n",
       "  <thead>\n",
       "    <tr style=\"text-align: right;\">\n",
       "      <th></th>\n",
       "      <th>Term</th>\n",
       "      <th>Frequence</th>\n",
       "      <th>length</th>\n",
       "    </tr>\n",
       "  </thead>\n",
       "  <tbody>\n",
       "    <tr>\n",
       "      <th>3597</th>\n",
       "      <td>điện thoại</td>\n",
       "      <td>4141</td>\n",
       "      <td>10</td>\n",
       "    </tr>\n",
       "    <tr>\n",
       "      <th>3595</th>\n",
       "      <td>điện</td>\n",
       "      <td>1710</td>\n",
       "      <td>4</td>\n",
       "    </tr>\n",
       "    <tr>\n",
       "      <th>3091</th>\n",
       "      <td>thoại</td>\n",
       "      <td>1692</td>\n",
       "      <td>5</td>\n",
       "    </tr>\n",
       "    <tr>\n",
       "      <th>2926</th>\n",
       "      <td>samsung</td>\n",
       "      <td>586</td>\n",
       "      <td>7</td>\n",
       "    </tr>\n",
       "    <tr>\n",
       "      <th>3689</th>\n",
       "      <td>ốp</td>\n",
       "      <td>405</td>\n",
       "      <td>2</td>\n",
       "    </tr>\n",
       "  </tbody>\n",
       "</table>\n",
       "</div>"
      ],
      "text/plain": [
       "            Term  Frequence  length\n",
       "3597  điện thoại       4141      10\n",
       "3595        điện       1710       4\n",
       "3091       thoại       1692       5\n",
       "2926     samsung        586       7\n",
       "3689          ốp        405       2"
      ]
     },
     "execution_count": 10,
     "metadata": {},
     "output_type": "execute_result"
    }
   ],
   "source": [
    "data_tf['length'] = data_tf['Term'].apply(len)\n",
    "data_tf.head()"
   ]
  },
  {
   "cell_type": "code",
   "execution_count": 11,
   "metadata": {
    "collapsed": false,
    "deletable": true,
    "editable": true
   },
   "outputs": [
    {
     "data": {
      "text/html": [
       "<div>\n",
       "<style scoped>\n",
       "    .dataframe tbody tr th:only-of-type {\n",
       "        vertical-align: middle;\n",
       "    }\n",
       "\n",
       "    .dataframe tbody tr th {\n",
       "        vertical-align: top;\n",
       "    }\n",
       "\n",
       "    .dataframe thead th {\n",
       "        text-align: right;\n",
       "    }\n",
       "</style>\n",
       "<table border=\"1\" class=\"dataframe\">\n",
       "  <thead>\n",
       "    <tr style=\"text-align: right;\">\n",
       "      <th></th>\n",
       "      <th>Term</th>\n",
       "    </tr>\n",
       "    <tr>\n",
       "      <th>length</th>\n",
       "      <th></th>\n",
       "    </tr>\n",
       "  </thead>\n",
       "  <tbody>\n",
       "    <tr>\n",
       "      <th>1</th>\n",
       "      <td>75</td>\n",
       "    </tr>\n",
       "    <tr>\n",
       "      <th>2</th>\n",
       "      <td>549</td>\n",
       "    </tr>\n",
       "    <tr>\n",
       "      <th>3</th>\n",
       "      <td>829</td>\n",
       "    </tr>\n",
       "    <tr>\n",
       "      <th>4</th>\n",
       "      <td>718</td>\n",
       "    </tr>\n",
       "    <tr>\n",
       "      <th>5</th>\n",
       "      <td>476</td>\n",
       "    </tr>\n",
       "    <tr>\n",
       "      <th>6</th>\n",
       "      <td>323</td>\n",
       "    </tr>\n",
       "    <tr>\n",
       "      <th>7</th>\n",
       "      <td>282</td>\n",
       "    </tr>\n",
       "    <tr>\n",
       "      <th>8</th>\n",
       "      <td>217</td>\n",
       "    </tr>\n",
       "    <tr>\n",
       "      <th>9</th>\n",
       "      <td>113</td>\n",
       "    </tr>\n",
       "    <tr>\n",
       "      <th>10</th>\n",
       "      <td>71</td>\n",
       "    </tr>\n",
       "    <tr>\n",
       "      <th>11</th>\n",
       "      <td>19</td>\n",
       "    </tr>\n",
       "    <tr>\n",
       "      <th>12</th>\n",
       "      <td>7</td>\n",
       "    </tr>\n",
       "    <tr>\n",
       "      <th>13</th>\n",
       "      <td>8</td>\n",
       "    </tr>\n",
       "    <tr>\n",
       "      <th>14</th>\n",
       "      <td>8</td>\n",
       "    </tr>\n",
       "    <tr>\n",
       "      <th>15</th>\n",
       "      <td>4</td>\n",
       "    </tr>\n",
       "    <tr>\n",
       "      <th>16</th>\n",
       "      <td>1</td>\n",
       "    </tr>\n",
       "    <tr>\n",
       "      <th>18</th>\n",
       "      <td>1</td>\n",
       "    </tr>\n",
       "  </tbody>\n",
       "</table>\n",
       "</div>"
      ],
      "text/plain": [
       "        Term\n",
       "length      \n",
       "1         75\n",
       "2        549\n",
       "3        829\n",
       "4        718\n",
       "5        476\n",
       "6        323\n",
       "7        282\n",
       "8        217\n",
       "9        113\n",
       "10        71\n",
       "11        19\n",
       "12         7\n",
       "13         8\n",
       "14         8\n",
       "15         4\n",
       "16         1\n",
       "18         1"
      ]
     },
     "execution_count": 11,
     "metadata": {},
     "output_type": "execute_result"
    }
   ],
   "source": [
    "data_tf[['length', 'Term']].groupby('length').count()"
   ]
  },
  {
   "cell_type": "code",
   "execution_count": 12,
   "metadata": {
    "collapsed": false,
    "deletable": true,
    "editable": true
   },
   "outputs": [],
   "source": [
    "data_tf = data_tf.loc[(data_tf['length']>=2) & (data_tf['length'] <= 10)]"
   ]
  },
  {
   "cell_type": "code",
   "execution_count": 14,
   "metadata": {
    "collapsed": false,
    "deletable": true,
    "editable": true
   },
   "outputs": [
    {
     "name": "stdout",
     "output_type": "stream",
     "text": [
      "['Điện thoại', 'sansung']\n"
     ]
    }
   ],
   "source": [
    "from underthesea import word_tokenize\n",
    "user_input = 'Điện thoại sansung'\n",
    "input_split = word_tokenize(user_input)\n",
    "print(input_split)"
   ]
  },
  {
   "cell_type": "code",
   "execution_count": 57,
   "metadata": {
    "collapsed": true,
    "deletable": true,
    "editable": true
   },
   "outputs": [],
   "source": [
    "import numpy as np\n",
    "def LevenshteinDistance(s, t, m = None, n = None):\n",
    "    s = s.lower()\n",
    "    t = t.lower()\n",
    "    if m is None:\n",
    "        m = len(s)\n",
    "    if n is None:\n",
    "        n = len(t)\n",
    "    d = np.zeros(shape = (m+1, n+1))\n",
    "    d[:, 0] = np.arange(m+1)\n",
    "    d[0, :] = np.arange(n+1)\n",
    "    \n",
    "    for i in np.arange(1, m+1):\n",
    "        for j in np.arange(1, n+1):\n",
    "            if s[i-1] == t[j-1]:\n",
    "                substitution_cost = 0\n",
    "            else:\n",
    "                substitution_cost = 1\n",
    "            d[i, j] = min(d[i-1, j] + 1,                   # deletion\n",
    "                          d[i, j-1] + 1,                   # insertion\n",
    "                          d[i-1, j-1] + substitution_cost) # substitution\n",
    "            \n",
    "    df = pd.DataFrame(d, columns = [' '] + list(t), index = [' '] + list(s))\n",
    "#     print(df)\n",
    "#     ratio_length = m/n\n",
    "#     if ratio_length < 1: \n",
    "#         ratio_length = 1/ratio_length\n",
    "#     print(d)\n",
    "#     prior words which have the length nearest with search words\n",
    "#     yield (max(np.diag(d))+abs(m-n))*ratio_length\n",
    "#     yield max(np.diag(d))\n",
    "    return max(np.diag(d)) + abs(m-n)"
   ]
  },
  {
   "cell_type": "code",
   "execution_count": 27,
   "metadata": {
    "collapsed": false,
    "deletable": true,
    "editable": true
   },
   "outputs": [],
   "source": [
    "import time\n",
    "def timeit(method):\n",
    "    def timed(*args, **kw):\n",
    "        ts = time.time()\n",
    "        result = method(*args, **kw)\n",
    "        te = time.time()\n",
    "        if 'log_time' in kw:\n",
    "            name = kw.get('log_name', method.__name__.upper())\n",
    "            kw['log_time'][name] = int((te - ts) * 1000)\n",
    "        else:\n",
    "            print ('%r  %2.2f ms' % \\\n",
    "                  (method.__name__, (te - ts) * 1000))\n",
    "        return result\n",
    "    return timed"
   ]
  },
  {
   "cell_type": "code",
   "execution_count": 72,
   "metadata": {
    "collapsed": false,
    "deletable": true,
    "editable": true
   },
   "outputs": [],
   "source": [
    "@timeit\n",
    "def LevenshteinDistanceList(string):\n",
    "    ds = [LevenshteinDistance(string, item) for item in data_tf.Term]\n",
    "    idxs = np.argsort(ds)\n",
    "    return data_tf.Term.iloc[idxs]"
   ]
  },
  {
   "cell_type": "code",
   "execution_count": 74,
   "metadata": {
    "collapsed": false,
    "deletable": true,
    "editable": true
   },
   "outputs": [
    {
     "name": "stdout",
     "output_type": "stream",
     "text": [
      "'LevenshteinDistanceList'  9634.41 ms\n"
     ]
    },
    {
     "data": {
      "text/plain": [
       "3597    điện thoại\n",
       "3557    Điện Thoại\n",
       "Name: Term, dtype: object"
      ]
     },
     "execution_count": 74,
     "metadata": {},
     "output_type": "execute_result"
    }
   ],
   "source": [
    "LevenshteinDistanceList('điện thoại')[:2]"
   ]
  },
  {
   "cell_type": "code",
   "execution_count": 75,
   "metadata": {
    "collapsed": false,
    "deletable": true,
    "editable": true
   },
   "outputs": [
    {
     "name": "stdout",
     "output_type": "stream",
     "text": [
      "'LevenshteinDistanceList'  8713.19 ms\n"
     ]
    },
    {
     "data": {
      "text/plain": [
       "1171    SAMSUNG\n",
       "2926    samsung\n",
       "Name: Term, dtype: object"
      ]
     },
     "execution_count": 75,
     "metadata": {},
     "output_type": "execute_result"
    }
   ],
   "source": [
    "LevenshteinDistanceList('samsung')[:2]"
   ]
  },
  {
   "cell_type": "markdown",
   "metadata": {
    "deletable": true,
    "editable": true
   },
   "source": [
    "## Create gram"
   ]
  },
  {
   "cell_type": "code",
   "execution_count": 100,
   "metadata": {
    "collapsed": false,
    "deletable": true,
    "editable": true
   },
   "outputs": [
    {
     "data": {
      "text/plain": [
       "[('đ', 'i'),\n",
       " ('i', 'ệ'),\n",
       " ('ệ', 'n'),\n",
       " ('n', ' '),\n",
       " (' ', 't'),\n",
       " ('t', 'h'),\n",
       " ('h', 'o'),\n",
       " ('o', 'ạ'),\n",
       " ('ạ', 'i'),\n",
       " ('i', ' '),\n",
       " (' ', 's'),\n",
       " ('s', 'a'),\n",
       " ('a', 'm'),\n",
       " ('m', 's'),\n",
       " ('s', 'u'),\n",
       " ('u', 'n'),\n",
       " ('n', 'g'),\n",
       " ('g', ' '),\n",
       " (' ', 'g'),\n",
       " ('g', 'a'),\n",
       " ('a', 'l'),\n",
       " ('l', 'a'),\n",
       " ('a', 'x'),\n",
       " ('x', 'y'),\n",
       " ('y', ' '),\n",
       " (' ', 'a'),\n",
       " ('a', '8'),\n",
       " ('8', ' '),\n",
       " (' ', 'p'),\n",
       " ('p', 'l'),\n",
       " ('l', 'u'),\n",
       " ('u', 's')]"
      ]
     },
     "execution_count": 100,
     "metadata": {},
     "output_type": "execute_result"
    }
   ],
   "source": [
    "from nltk import bigrams, trigrams\n",
    "list(bigrams(data2['Term'][1]))"
   ]
  },
  {
   "cell_type": "markdown",
   "metadata": {
    "deletable": true,
    "editable": true
   },
   "source": [
    "## II. Fuzzywuzzy search"
   ]
  },
  {
   "cell_type": "code",
   "execution_count": 78,
   "metadata": {
    "collapsed": false,
    "deletable": true,
    "editable": true
   },
   "outputs": [
    {
     "name": "stdout",
     "output_type": "stream",
     "text": [
      "'_best_guess'  2473.89 ms\n"
     ]
    },
    {
     "data": {
      "text/plain": [
       "[('điện thoại', 100, 3597),\n",
       " ('Điện thoại', 100, 3558),\n",
       " ('điện Thoại', 100, 3596),\n",
       " ('Điện Thoại', 100, 3557),\n",
       " ('điện', 90, 3595)]"
      ]
     },
     "execution_count": 78,
     "metadata": {},
     "output_type": "execute_result"
    }
   ],
   "source": [
    "from fuzzywuzzy import process\n",
    "\n",
    "@timeit\n",
    "def _best_guess(input_split):\n",
    "    best_guess = process.extract(input_split, data_tf.Term)\n",
    "    return best_guess\n",
    "_best_guess('Điện thoại')\n",
    "# print(f\"The best match for '{input_split[1]}' is '{best_guess}'\")"
   ]
  },
  {
   "cell_type": "code",
   "execution_count": 79,
   "metadata": {
    "collapsed": false,
    "deletable": true,
    "editable": true
   },
   "outputs": [
    {
     "data": {
      "text/plain": [
       "[('đog hồ trẻ em', 89), ('do hồ trẻ em', 82)]"
      ]
     },
     "execution_count": 79,
     "metadata": {},
     "output_type": "execute_result"
    }
   ],
   "source": [
    "process.extract('đồng hồ trẻ em', ['đog hồ trẻ em', 'do hồ trẻ em'])"
   ]
  },
  {
   "cell_type": "code",
   "execution_count": 81,
   "metadata": {
    "collapsed": false,
    "deletable": true,
    "editable": true
   },
   "outputs": [
    {
     "data": {
      "text/plain": [
       "[('Đồng hồ', 92, 3572),\n",
       " ('đồng hồ', 92, 3658),\n",
       " ('ĐỒNG HỒ', 92, 3568),\n",
       " ('hồ', 90, 2153),\n",
       " ('đèn', 90, 3619)]"
      ]
     },
     "execution_count": 81,
     "metadata": {},
     "output_type": "execute_result"
    }
   ],
   "source": [
    "process.extract('đông hồ', data_tf.Term)"
   ]
  },
  {
   "cell_type": "markdown",
   "metadata": {
    "deletable": true,
    "editable": true
   },
   "source": [
    "## III. Correct spelling"
   ]
  },
  {
   "cell_type": "code",
   "execution_count": 79,
   "metadata": {
    "collapsed": false,
    "deletable": true,
    "editable": true
   },
   "outputs": [],
   "source": [
    "\"\"\"\n",
    "Method 2 : Peter Norvig sur un seul mot\n",
    "\"\"\"\n",
    "\n",
    "import re\n",
    "import nltk\n",
    "from collections import Counter\n",
    "\n",
    "def words(text): \n",
    "    return re.findall(r'\\w+', text.lower())\n",
    "\n",
    "WORDS = Counter(dic2)"
   ]
  },
  {
   "cell_type": "code",
   "execution_count": 29,
   "metadata": {
    "collapsed": false,
    "deletable": true,
    "editable": true
   },
   "outputs": [
    {
     "data": {
      "text/plain": [
       "0.0001518695137138171"
      ]
     },
     "execution_count": 29,
     "metadata": {},
     "output_type": "execute_result"
    }
   ],
   "source": [
    "def P(word, N=sum(WORDS.values())): \n",
    "    \"Probability of `word`.\"\n",
    "    return WORDS[word] / N\n",
    "\n",
    "P('Điện thoại')"
   ]
  },
  {
   "cell_type": "code",
   "execution_count": 80,
   "metadata": {
    "collapsed": false,
    "deletable": true,
    "editable": true
   },
   "outputs": [
    {
     "data": {
      "text/plain": [
       "2125"
      ]
     },
     "execution_count": 80,
     "metadata": {},
     "output_type": "execute_result"
    }
   ],
   "source": [
    "def edits1(word):\n",
    "    \"All edits that are one edit away from `word`.\"\n",
    "    letters    = \"0123456789abcdefghijklmnopqrstuvwxyz×àáâãèéêìíòóôõùúýăđĩũơưạảấầẩẫậắằẵặẹẻẽếềểễệỉịọỏốồổỗộớờởỡợụủứừửữựỳỹ\"\n",
    "    splits     = [(word[:i], word[i:])    for i in range(len(word) + 1)]\n",
    "    deletes    = [L + R[1:]               for L, R in splits if R]\n",
    "    transposes = [L + R[1] + R[0] + R[2:] for L, R in splits if len(R)>1]\n",
    "    replaces   = [L + c + R[1:]           for L, R in splits if R for c in letters]\n",
    "    inserts    = [L + c + R               for L, R in splits for c in letters]\n",
    "    return set(deletes + transposes + replaces + inserts)\n",
    "\n",
    "len(edits1('Điện thoại'))"
   ]
  },
  {
   "cell_type": "code",
   "execution_count": 31,
   "metadata": {
    "collapsed": false,
    "deletable": true,
    "editable": true
   },
   "outputs": [
    {
     "data": {
      "text/plain": [
       "11"
      ]
     },
     "execution_count": 31,
     "metadata": {},
     "output_type": "execute_result"
    }
   ],
   "source": [
    "def edits2(word): \n",
    "    \"All edits that are two edits away from `word`.\"\n",
    "    return (e2 for e1 in edits1(word) for e2 in edits1(e1))\n",
    "\n",
    "len(next(edits2('Điện thoại')))"
   ]
  },
  {
   "cell_type": "code",
   "execution_count": 32,
   "metadata": {
    "collapsed": false,
    "deletable": true,
    "editable": true
   },
   "outputs": [
    {
     "data": {
      "text/plain": [
       "{'Điện thoại', 'điện'}"
      ]
     },
     "execution_count": 32,
     "metadata": {},
     "output_type": "execute_result"
    }
   ],
   "source": [
    "def known(words): \n",
    "    \"The subset of `words` that appear in the dictionary of WORDS.\"\n",
    "    return set(w for w in words if w in WORDS)\n",
    "\n",
    "known(['Điện thoại','điện', 'điêns'])"
   ]
  },
  {
   "cell_type": "code",
   "execution_count": 33,
   "metadata": {
    "collapsed": false,
    "deletable": true,
    "editable": true
   },
   "outputs": [],
   "source": [
    "def candidates(word): \n",
    "    \"Generate possible spelling corrections for word.\"\n",
    "    return (known([word]) or known(edits1(word)) or known(edits2(word)) or [word])"
   ]
  },
  {
   "cell_type": "code",
   "execution_count": 123,
   "metadata": {
    "collapsed": false,
    "deletable": true,
    "editable": true
   },
   "outputs": [],
   "source": [
    "# word = 'điện thaoi'\n",
    "# known([word])\n",
    "# edits1(word)\n",
    "# known(edits2(word))"
   ]
  },
  {
   "cell_type": "code",
   "execution_count": 34,
   "metadata": {
    "collapsed": false,
    "deletable": true,
    "editable": true
   },
   "outputs": [
    {
     "name": "stdout",
     "output_type": "stream",
     "text": [
      "'correction'  0.00 ms\n"
     ]
    },
    {
     "data": {
      "text/plain": [
       "'điện thoại'"
      ]
     },
     "execution_count": 34,
     "metadata": {},
     "output_type": "execute_result"
    }
   ],
   "source": [
    "@timeit\n",
    "def correction(word): \n",
    "    \"Most probable spelling correction for word.\"\n",
    "    return max(candidates(word), key=P)\n",
    "\n",
    "correction('điện thoai')"
   ]
  },
  {
   "cell_type": "code",
   "execution_count": 133,
   "metadata": {
    "collapsed": false,
    "deletable": true,
    "editable": true
   },
   "outputs": [
    {
     "name": "stdout",
     "output_type": "stream",
     "text": [
      "'correction'  0.00 ms\n",
      "ưu đãi\n",
      "'correction'  0.00 ms\n",
      "đỡ\n",
      "'correction'  0.00 ms\n",
      "đông\n",
      "'correction'  0.00 ms\n",
      "đencủa\n",
      "'correction'  0.00 ms\n",
      "đồng hồ\n",
      "'correction'  0.00 ms\n",
      "đồng hồ\n"
     ]
    }
   ],
   "source": [
    "from underthesea import word_tokenize\n",
    "\"\"\"\n",
    "Exemple avec notre text initial \n",
    "\"\"\"\n",
    "text1 = \"đ\"\n",
    "text2 = \"đo\"\n",
    "text3 = \"đô\"\n",
    "text4 = \"đôn\"\n",
    "text5 = \"đồng\"\n",
    "text6 = \"đồng hồ\"\n",
    "\n",
    "def common_prefix(prefix, dic = dic1):\n",
    "    sub_dic = [item for item in dic1 if prefix in item]\n",
    "    count = Counter(sub_dic)\n",
    "    return max(count)\n",
    "\n",
    "def correct_word_in_sentence(text):\n",
    "#     tokens = word_tokenize(text)\n",
    "#     r = [correction(token) for token in tokens]\n",
    "    r = correction(text)\n",
    "    return r\n",
    "\n",
    "def suggest_word_search(text):\n",
    "    r = correct_word_in_sentence(text)\n",
    "    return common_prefix(r)\n",
    "\n",
    "tmp = suggest_word_search(text1)\n",
    "print(tmp)\n",
    "tmp = suggest_word_search(text2)\n",
    "print(tmp)\n",
    "tmp = suggest_word_search(text3)\n",
    "print(tmp)\n",
    "tmp = suggest_word_search(text4)\n",
    "print(tmp)\n",
    "tmp = suggest_word_search(text5)\n",
    "print(tmp)\n",
    "tmp = suggest_word_search(text6)\n",
    "print(tmp)\n",
    "# tmp = ' '.join(suggest_word_search(text2))\n",
    "# print(tmp)\n",
    "# tmp = ' '.join(suggest_word_search(text3))\n",
    "# print(tmp)\n",
    "# tmp = ' '.join(suggest_word_search(text4))\n",
    "# print(tmp)\n",
    "# tmp = ' '.join(suggest_word_search(text5))\n",
    "# print(tmp)"
   ]
  },
  {
   "cell_type": "code",
   "execution_count": null,
   "metadata": {
    "collapsed": true,
    "deletable": true,
    "editable": true
   },
   "outputs": [],
   "source": []
  },
  {
   "cell_type": "code",
   "execution_count": 122,
   "metadata": {
    "collapsed": false,
    "deletable": true,
    "editable": true
   },
   "outputs": [
    {
     "data": {
      "text/plain": [
       "'đồng hồ'"
      ]
     },
     "execution_count": 122,
     "metadata": {},
     "output_type": "execute_result"
    }
   ],
   "source": [
    "\n",
    "\n",
    "distribute_prefix('đồ')"
   ]
  }
 ],
 "metadata": {
  "kernelspec": {
   "display_name": "Python 3",
   "language": "python",
   "name": "python3"
  },
  "language_info": {
   "codemirror_mode": {
    "name": "ipython",
    "version": 3
   },
   "file_extension": ".py",
   "mimetype": "text/x-python",
   "name": "python",
   "nbconvert_exporter": "python",
   "pygments_lexer": "ipython3",
   "version": "3.6.0"
  }
 },
 "nbformat": 4,
 "nbformat_minor": 2
}
